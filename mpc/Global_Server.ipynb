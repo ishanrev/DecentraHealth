{
  "cells": [
    {
      "cell_type": "code",
      "execution_count": null,
      "metadata": {
        "id": "PDKYw3efM9TD"
      },
      "outputs": [],
      "source": [
        "all_labels = ['Atelectasis', 'Consolidation', 'Mass', 'Infiltration', 'No Finding', 'Pneumothorax', 'Effusion', 'Nodule','Pleural_Thickening','Emphysema','Edema','Cardiomegaly','Fibrosis','Pneumonia','Hernia']"
      ]
    },
    {
      "cell_type": "code",
      "execution_count": null,
      "metadata": {
        "colab": {
          "base_uri": "https://localhost:8080/"
        },
        "id": "uJKBoQtDN2nB",
        "outputId": "10b8af74-8488-44ec-8360-1b488c173a81"
      },
      "outputs": [
        {
          "name": "stdout",
          "output_type": "stream",
          "text": [
            "Collecting ijson\n",
            "  Downloading ijson-3.3.0-cp310-cp310-manylinux_2_17_x86_64.manylinux2014_x86_64.whl.metadata (21 kB)\n",
            "Downloading ijson-3.3.0-cp310-cp310-manylinux_2_17_x86_64.manylinux2014_x86_64.whl (114 kB)\n",
            "\u001b[?25l   \u001b[90m━━━━━━━━━━━━━━━━━━━━━━━━━━━━━━━━━━━━━━━━\u001b[0m \u001b[32m0.0/114.5 kB\u001b[0m \u001b[31m?\u001b[0m eta \u001b[36m-:--:--\u001b[0m\r\u001b[2K   \u001b[90m━━━━━━━━━━━━━━━━━━━━━━━━━━━━━━━━━━━━━━━━\u001b[0m \u001b[32m114.5/114.5 kB\u001b[0m \u001b[31m3.6 MB/s\u001b[0m eta \u001b[36m0:00:00\u001b[0m\n",
            "\u001b[?25hInstalling collected packages: ijson\n",
            "Successfully installed ijson-3.3.0\n"
          ]
        }
      ],
      "source": [
        "!pip install ijson"
      ]
    },
    {
      "cell_type": "code",
      "execution_count": 25,
      "metadata": {
        "colab": {
          "base_uri": "https://localhost:8080/"
        },
        "id": "0CIHtmw0MgyG",
        "outputId": "aa0f686d-87cb-421b-d4fb-8898159ea299"
      },
      "outputs": [
        {
          "name": "stdout",
          "output_type": "stream",
          "text": [
            "Model Weights: [Decimal('-0.09241695702075958'), Decimal('-0.08089049160480499'), Decimal('-0.1134713888168335'), Decimal('0.02299993298947811'), Decimal('0.022746121510863304'), Decimal('-0.03572862967848778'), Decimal('0.05747848004102707'), Decimal('-0.009774364531040192'), Decimal('0.11136361956596375'), Decimal('-0.09931083023548126')]\n"
          ]
        }
      ],
      "source": [
        "import ijson\n",
        "\n",
        "def fetch_model_weights_large_json(file_path):\n",
        "    try:\n",
        "        # Open the JSON file for streaming\n",
        "        with open(file_path, 'r') as file:\n",
        "            # Use ijson to incrementally parse the 'model_weights' array\n",
        "            parser = ijson.items(file, 'final_weights.item')\n",
        "            model_weights = [item for item in parser]  # Collect the weights into a list\n",
        "        return model_weights\n",
        "\n",
        "    except Exception as e:\n",
        "        print(f\"An error occurred: {e}\")\n",
        "        return None\n",
        "\n",
        "# Example usage\n",
        "file_path = '/content/training_info2.json'\n",
        "weights = fetch_model_weights_large_json(file_path)\n",
        "\n",
        "if weights is not None:\n",
        "    print(\"Model Weights:\", weights[:10])\n"
      ]
    },
    {
      "cell_type": "code",
      "execution_count": 26,
      "metadata": {
        "id": "lkY9uJ-8M3Fq"
      },
      "outputs": [],
      "source": [
        "from tensorflow.keras.applications import MobileNet\n",
        "from tensorflow.keras.layers import GlobalAveragePooling2D, Dropout, Dense\n",
        "from tensorflow.keras.models import Sequential\n",
        "base_mobilenet_model = MobileNet(input_shape=(224, 224, 3), include_top=False, weights=None)\n",
        "model = Sequential()\n",
        "model.add(base_mobilenet_model)\n",
        "model.add(GlobalAveragePooling2D())\n",
        "model.add(Dropout(0.5))\n",
        "model.add(Dense(512, activation='relu'))\n",
        "model.add(Dropout(0.5))\n",
        "model.add(Dense(len(all_labels), activation='sigmoid'))\n",
        "model.compile(optimizer='adam',\n",
        "              loss='binary_crossentropy',\n",
        "              metrics=['binary_accuracy', 'mae'])\n"
      ]
    },
    {
      "cell_type": "code",
      "execution_count": 27,
      "metadata": {
        "id": "4Jiv43jpQKeT"
      },
      "outputs": [],
      "source": [
        "import numpy as np\n",
        "\n",
        "def set_model_weights(model, flattened_weights):\n",
        "    # Get the original shapes of the model weights\n",
        "    original_weights = model.get_weights()\n",
        "\n",
        "    # Initialize index to keep track of where to take the next set of weights from\n",
        "    idx = 0\n",
        "    reshaped_weights = []\n",
        "\n",
        "    # Loop over each layer's original weights and reshape the flattened weights\n",
        "    for w in original_weights:\n",
        "        # Get the number of elements in this weight matrix\n",
        "        num_elements = np.prod(w.shape)\n",
        "\n",
        "        # Reshape the corresponding flattened weights back to the original shape\n",
        "        reshaped_weight = np.array(flattened_weights[idx:idx + num_elements]).reshape(w.shape)\n",
        "\n",
        "        # Append the reshaped weight\n",
        "        reshaped_weights.append(reshaped_weight)\n",
        "\n",
        "        # Update the index\n",
        "        idx += num_elements\n",
        "\n",
        "    # Set the reshaped weights back into the model\n",
        "    model.set_weights(reshaped_weights)\n"
      ]
    },
    {
      "cell_type": "code",
      "execution_count": 30,
      "metadata": {
        "id": "4NpL5SjVPSRQ"
      },
      "outputs": [],
      "source": [
        "set_model_weights(model, weights)"
      ]
    },
    {
      "cell_type": "code",
      "execution_count": 31,
      "metadata": {
        "id": "nnY9WQFAQLp6"
      },
      "outputs": [],
      "source": [
        "import numpy as np\n",
        "\n",
        "def get_model_weights(model):\n",
        "    # Get the weights of the model and flatten them\n",
        "    flattened_weights = np.concatenate([w.flatten() for w in model.get_weights()])\n",
        "    return flattened_weights.tolist()\n"
      ]
    },
    {
      "cell_type": "code",
      "execution_count": 32,
      "metadata": {
        "colab": {
          "base_uri": "https://localhost:8080/"
        },
        "id": "OMTsbqUOPBbj",
        "outputId": "2aa0ec7d-089a-4906-cbbd-83e23fc73007"
      },
      "outputs": [
        {
          "name": "stdout",
          "output_type": "stream",
          "text": [
            "[-0.09241695702075958, -0.08089049160480499, -0.1134713888168335, 0.02299993298947811, 0.022746121510863304, -0.03572862967848778, 0.05747848004102707, -0.009774364531040192, 0.11136361956596375, -0.09931083023548126]\n"
          ]
        }
      ],
      "source": [
        "w = get_model_weights(model)\n",
        "\n",
        "print(w[:10])"
      ]
    }
  ],
  "metadata": {
    "colab": {
      "provenance": []
    },
    "kernelspec": {
      "display_name": "Python 3",
      "name": "python3"
    },
    "language_info": {
      "name": "python"
    }
  },
  "nbformat": 4,
  "nbformat_minor": 0
}
